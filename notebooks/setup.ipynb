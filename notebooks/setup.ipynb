{
 "cells": [
  {
   "cell_type": "markdown",
   "metadata": {},
   "source": [
    "# Setup du projet"
   ]
  },
  {
   "cell_type": "code",
   "execution_count": 1,
   "metadata": {},
   "outputs": [
    {
     "name": "stdout",
     "output_type": "stream",
     "text": [
      "Python 3.10.12\n"
     ]
    }
   ],
   "source": [
    "!python --version"
   ]
  },
  {
   "cell_type": "code",
   "execution_count": 2,
   "metadata": {},
   "outputs": [
    {
     "name": "stdout",
     "output_type": "stream",
     "text": [
      "Requirement already satisfied: pandas in /home/charles-auguste/.pyenv/versions/3.10.12/lib/python3.10/site-packages (from -r ../requirements.txt (line 1)) (2.2.3)\n",
      "Requirement already satisfied: plotly in /home/charles-auguste/.pyenv/versions/3.10.12/lib/python3.10/site-packages (from -r ../requirements.txt (line 3)) (6.0.1)\n",
      "Requirement already satisfied: pydantic in /home/charles-auguste/.pyenv/versions/3.10.12/lib/python3.10/site-packages (from -r ../requirements.txt (line 4)) (2.11.2)\n",
      "Requirement already satisfied: mysql-connector-python in /home/charles-auguste/.pyenv/versions/3.10.12/lib/python3.10/site-packages (from -r ../requirements.txt (line 6)) (9.2.0)\n",
      "Requirement already satisfied: ipdb in /home/charles-auguste/.pyenv/versions/3.10.12/lib/python3.10/site-packages (from -r ../requirements.txt (line 7)) (0.13.13)\n",
      "Requirement already satisfied: python-dotenv in /home/charles-auguste/.pyenv/versions/3.10.12/lib/python3.10/site-packages (from -r ../requirements.txt (line 8)) (1.1.0)\n",
      "Requirement already satisfied: black[jupyter] in /home/charles-auguste/.pyenv/versions/3.10.12/lib/python3.10/site-packages (from -r ../requirements.txt (line 2)) (25.1.0)\n",
      "Requirement already satisfied: numpy>=1.22.4 in /home/charles-auguste/.pyenv/versions/3.10.12/lib/python3.10/site-packages (from pandas->-r ../requirements.txt (line 1)) (2.2.4)\n",
      "Requirement already satisfied: python-dateutil>=2.8.2 in /home/charles-auguste/.pyenv/versions/3.10.12/lib/python3.10/site-packages (from pandas->-r ../requirements.txt (line 1)) (2.9.0.post0)\n",
      "Requirement already satisfied: pytz>=2020.1 in /home/charles-auguste/.pyenv/versions/3.10.12/lib/python3.10/site-packages (from pandas->-r ../requirements.txt (line 1)) (2025.2)\n",
      "Requirement already satisfied: tzdata>=2022.7 in /home/charles-auguste/.pyenv/versions/3.10.12/lib/python3.10/site-packages (from pandas->-r ../requirements.txt (line 1)) (2025.2)\n",
      "Requirement already satisfied: click>=8.0.0 in /home/charles-auguste/.pyenv/versions/3.10.12/lib/python3.10/site-packages (from black[jupyter]->-r ../requirements.txt (line 2)) (8.1.8)\n",
      "Requirement already satisfied: mypy-extensions>=0.4.3 in /home/charles-auguste/.pyenv/versions/3.10.12/lib/python3.10/site-packages (from black[jupyter]->-r ../requirements.txt (line 2)) (1.0.0)\n",
      "Requirement already satisfied: packaging>=22.0 in /home/charles-auguste/.pyenv/versions/3.10.12/lib/python3.10/site-packages (from black[jupyter]->-r ../requirements.txt (line 2)) (24.2)\n",
      "Requirement already satisfied: pathspec>=0.9.0 in /home/charles-auguste/.pyenv/versions/3.10.12/lib/python3.10/site-packages (from black[jupyter]->-r ../requirements.txt (line 2)) (0.12.1)\n",
      "Requirement already satisfied: platformdirs>=2 in /home/charles-auguste/.pyenv/versions/3.10.12/lib/python3.10/site-packages (from black[jupyter]->-r ../requirements.txt (line 2)) (4.3.7)\n",
      "Requirement already satisfied: tomli>=1.1.0 in /home/charles-auguste/.pyenv/versions/3.10.12/lib/python3.10/site-packages (from black[jupyter]->-r ../requirements.txt (line 2)) (2.2.1)\n",
      "Requirement already satisfied: typing-extensions>=4.0.1 in /home/charles-auguste/.pyenv/versions/3.10.12/lib/python3.10/site-packages (from black[jupyter]->-r ../requirements.txt (line 2)) (4.13.1)\n",
      "Requirement already satisfied: ipython>=7.8.0 in /home/charles-auguste/.pyenv/versions/3.10.12/lib/python3.10/site-packages (from black[jupyter]->-r ../requirements.txt (line 2)) (8.34.0)\n",
      "Requirement already satisfied: tokenize-rt>=3.2.0 in /home/charles-auguste/.pyenv/versions/3.10.12/lib/python3.10/site-packages (from black[jupyter]->-r ../requirements.txt (line 2)) (6.1.0)\n",
      "Requirement already satisfied: narwhals>=1.15.1 in /home/charles-auguste/.pyenv/versions/3.10.12/lib/python3.10/site-packages (from plotly->-r ../requirements.txt (line 3)) (1.33.0)\n",
      "Requirement already satisfied: annotated-types>=0.6.0 in /home/charles-auguste/.pyenv/versions/3.10.12/lib/python3.10/site-packages (from pydantic->-r ../requirements.txt (line 4)) (0.7.0)\n",
      "Requirement already satisfied: pydantic-core==2.33.1 in /home/charles-auguste/.pyenv/versions/3.10.12/lib/python3.10/site-packages (from pydantic->-r ../requirements.txt (line 4)) (2.33.1)\n",
      "Requirement already satisfied: typing-inspection>=0.4.0 in /home/charles-auguste/.pyenv/versions/3.10.12/lib/python3.10/site-packages (from pydantic->-r ../requirements.txt (line 4)) (0.4.0)\n",
      "Requirement already satisfied: email-validator>=2.0.0 in /home/charles-auguste/.pyenv/versions/3.10.12/lib/python3.10/site-packages (from pydantic[email]->-r ../requirements.txt (line 5)) (2.2.0)\n",
      "Requirement already satisfied: decorator in /home/charles-auguste/.pyenv/versions/3.10.12/lib/python3.10/site-packages (from ipdb->-r ../requirements.txt (line 7)) (5.2.1)\n",
      "Requirement already satisfied: dnspython>=2.0.0 in /home/charles-auguste/.pyenv/versions/3.10.12/lib/python3.10/site-packages (from email-validator>=2.0.0->pydantic[email]->-r ../requirements.txt (line 5)) (2.7.0)\n",
      "Requirement already satisfied: idna>=2.0.0 in /home/charles-auguste/.pyenv/versions/3.10.12/lib/python3.10/site-packages (from email-validator>=2.0.0->pydantic[email]->-r ../requirements.txt (line 5)) (3.10)\n",
      "Requirement already satisfied: exceptiongroup in /home/charles-auguste/.pyenv/versions/3.10.12/lib/python3.10/site-packages (from ipython>=7.8.0->black[jupyter]->-r ../requirements.txt (line 2)) (1.2.2)\n",
      "Requirement already satisfied: jedi>=0.16 in /home/charles-auguste/.pyenv/versions/3.10.12/lib/python3.10/site-packages (from ipython>=7.8.0->black[jupyter]->-r ../requirements.txt (line 2)) (0.19.2)\n",
      "Requirement already satisfied: matplotlib-inline in /home/charles-auguste/.pyenv/versions/3.10.12/lib/python3.10/site-packages (from ipython>=7.8.0->black[jupyter]->-r ../requirements.txt (line 2)) (0.1.7)\n",
      "Requirement already satisfied: pexpect>4.3 in /home/charles-auguste/.pyenv/versions/3.10.12/lib/python3.10/site-packages (from ipython>=7.8.0->black[jupyter]->-r ../requirements.txt (line 2)) (4.9.0)\n",
      "Requirement already satisfied: prompt_toolkit<3.1.0,>=3.0.41 in /home/charles-auguste/.pyenv/versions/3.10.12/lib/python3.10/site-packages (from ipython>=7.8.0->black[jupyter]->-r ../requirements.txt (line 2)) (3.0.50)\n",
      "Requirement already satisfied: pygments>=2.4.0 in /home/charles-auguste/.pyenv/versions/3.10.12/lib/python3.10/site-packages (from ipython>=7.8.0->black[jupyter]->-r ../requirements.txt (line 2)) (2.19.1)\n",
      "Requirement already satisfied: stack_data in /home/charles-auguste/.pyenv/versions/3.10.12/lib/python3.10/site-packages (from ipython>=7.8.0->black[jupyter]->-r ../requirements.txt (line 2)) (0.6.3)\n",
      "Requirement already satisfied: traitlets>=5.13.0 in /home/charles-auguste/.pyenv/versions/3.10.12/lib/python3.10/site-packages (from ipython>=7.8.0->black[jupyter]->-r ../requirements.txt (line 2)) (5.14.3)\n",
      "Requirement already satisfied: six>=1.5 in /home/charles-auguste/.pyenv/versions/3.10.12/lib/python3.10/site-packages (from python-dateutil>=2.8.2->pandas->-r ../requirements.txt (line 1)) (1.17.0)\n",
      "Requirement already satisfied: parso<0.9.0,>=0.8.4 in /home/charles-auguste/.pyenv/versions/3.10.12/lib/python3.10/site-packages (from jedi>=0.16->ipython>=7.8.0->black[jupyter]->-r ../requirements.txt (line 2)) (0.8.4)\n",
      "Requirement already satisfied: ptyprocess>=0.5 in /home/charles-auguste/.pyenv/versions/3.10.12/lib/python3.10/site-packages (from pexpect>4.3->ipython>=7.8.0->black[jupyter]->-r ../requirements.txt (line 2)) (0.7.0)\n",
      "Requirement already satisfied: wcwidth in /home/charles-auguste/.pyenv/versions/3.10.12/lib/python3.10/site-packages (from prompt_toolkit<3.1.0,>=3.0.41->ipython>=7.8.0->black[jupyter]->-r ../requirements.txt (line 2)) (0.2.13)\n",
      "Requirement already satisfied: executing>=1.2.0 in /home/charles-auguste/.pyenv/versions/3.10.12/lib/python3.10/site-packages (from stack_data->ipython>=7.8.0->black[jupyter]->-r ../requirements.txt (line 2)) (2.2.0)\n",
      "Requirement already satisfied: asttokens>=2.1.0 in /home/charles-auguste/.pyenv/versions/3.10.12/lib/python3.10/site-packages (from stack_data->ipython>=7.8.0->black[jupyter]->-r ../requirements.txt (line 2)) (3.0.0)\n",
      "Requirement already satisfied: pure-eval in /home/charles-auguste/.pyenv/versions/3.10.12/lib/python3.10/site-packages (from stack_data->ipython>=7.8.0->black[jupyter]->-r ../requirements.txt (line 2)) (0.2.3)\n",
      "Requirement already satisfied: pip in /home/charles-auguste/.pyenv/versions/3.10.12/lib/python3.10/site-packages (25.0.1)\n"
     ]
    }
   ],
   "source": [
    "!pip install -r ../requirements.txt\n",
    "!pip install --upgrade pip"
   ]
  }
 ],
 "metadata": {
  "kernelspec": {
   "display_name": "3.10.12",
   "language": "python",
   "name": "python3"
  },
  "language_info": {
   "codemirror_mode": {
    "name": "ipython",
    "version": 3
   },
   "file_extension": ".py",
   "mimetype": "text/x-python",
   "name": "python",
   "nbconvert_exporter": "python",
   "pygments_lexer": "ipython3",
   "version": "3.10.12"
  }
 },
 "nbformat": 4,
 "nbformat_minor": 2
}
