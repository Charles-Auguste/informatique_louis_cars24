{
 "cells": [
  {
   "cell_type": "markdown",
   "metadata": {},
   "source": [
    "# Analyse de données : Projet informatique"
   ]
  },
  {
   "cell_type": "code",
   "execution_count": 2,
   "metadata": {
    "vscode": {
     "languageId": "shellscript"
    }
   },
   "outputs": [
    {
     "name": "stdout",
     "output_type": "stream",
     "text": [
      "Python 3.10.12\n"
     ]
    }
   ],
   "source": [
    "!python --version"
   ]
  },
  {
   "cell_type": "code",
   "execution_count": 19,
   "metadata": {
    "vscode": {
     "languageId": "shellscript"
    }
   },
   "outputs": [
    {
     "name": "stdout",
     "output_type": "stream",
     "text": [
      "pandas            2.2.3\n"
     ]
    }
   ],
   "source": [
    "#!pip install -r requirements.txt\n",
    "#!pip install --upgrade pip\n",
    "!pip list | grep pandas"
   ]
  },
  {
   "cell_type": "markdown",
   "metadata": {
    "vscode": {
     "languageId": "shellscript"
    }
   },
   "source": [
    "### Imports"
   ]
  },
  {
   "cell_type": "code",
   "execution_count": null,
   "metadata": {},
   "outputs": [],
   "source": [
    "import pandas as pd\n",
    "from pathlib import Path\n",
    "from typing import Union\n",
    "import plotly.express as px"
   ]
  },
  {
   "cell_type": "code",
   "execution_count": 16,
   "metadata": {},
   "outputs": [
    {
     "data": {
      "text/html": [
       "<div>\n",
       "<style scoped>\n",
       "    .dataframe tbody tr th:only-of-type {\n",
       "        vertical-align: middle;\n",
       "    }\n",
       "\n",
       "    .dataframe tbody tr th {\n",
       "        vertical-align: top;\n",
       "    }\n",
       "\n",
       "    .dataframe thead th {\n",
       "        text-align: right;\n",
       "    }\n",
       "</style>\n",
       "<table border=\"1\" class=\"dataframe\">\n",
       "  <thead>\n",
       "    <tr style=\"text-align: right;\">\n",
       "      <th></th>\n",
       "      <th>Model Name</th>\n",
       "      <th>Price</th>\n",
       "      <th>Manufacturing_year</th>\n",
       "      <th>Engine capacity</th>\n",
       "      <th>Spare key</th>\n",
       "      <th>Transmission</th>\n",
       "      <th>KM driven</th>\n",
       "      <th>Ownership</th>\n",
       "      <th>Fuel type</th>\n",
       "      <th>Imperfections</th>\n",
       "      <th>Repainted Parts</th>\n",
       "    </tr>\n",
       "  </thead>\n",
       "  <tbody>\n",
       "    <tr>\n",
       "      <th>0</th>\n",
       "      <td>2017 Maruti Swift VXI</td>\n",
       "      <td>561000</td>\n",
       "      <td>2017</td>\n",
       "      <td>1197</td>\n",
       "      <td>No</td>\n",
       "      <td>Manual</td>\n",
       "      <td>25847</td>\n",
       "      <td>2</td>\n",
       "      <td>Petrol</td>\n",
       "      <td>6</td>\n",
       "      <td>2</td>\n",
       "    </tr>\n",
       "    <tr>\n",
       "      <th>1</th>\n",
       "      <td>2016 Maruti Baleno DELTA PETROL 1.2</td>\n",
       "      <td>498000</td>\n",
       "      <td>2016</td>\n",
       "      <td>1197</td>\n",
       "      <td>Yes</td>\n",
       "      <td>Manual</td>\n",
       "      <td>55511</td>\n",
       "      <td>2</td>\n",
       "      <td>Petrol</td>\n",
       "      <td>12</td>\n",
       "      <td>1</td>\n",
       "    </tr>\n",
       "    <tr>\n",
       "      <th>2</th>\n",
       "      <td>2020 Maruti Swift VXI</td>\n",
       "      <td>577000</td>\n",
       "      <td>2020</td>\n",
       "      <td>1197</td>\n",
       "      <td>No</td>\n",
       "      <td>Manual</td>\n",
       "      <td>47110</td>\n",
       "      <td>1</td>\n",
       "      <td>Petrol</td>\n",
       "      <td>4</td>\n",
       "      <td>2</td>\n",
       "    </tr>\n",
       "    <tr>\n",
       "      <th>3</th>\n",
       "      <td>2022 Maruti Ertiga VXI AT SHVS</td>\n",
       "      <td>1084000</td>\n",
       "      <td>2022</td>\n",
       "      <td>1462</td>\n",
       "      <td>Yes</td>\n",
       "      <td>Automatic</td>\n",
       "      <td>35378</td>\n",
       "      <td>1</td>\n",
       "      <td>Petrol</td>\n",
       "      <td>2</td>\n",
       "      <td>3</td>\n",
       "    </tr>\n",
       "    <tr>\n",
       "      <th>4</th>\n",
       "      <td>2019 Maruti Dzire VXI</td>\n",
       "      <td>603000</td>\n",
       "      <td>2019</td>\n",
       "      <td>1197</td>\n",
       "      <td>Yes</td>\n",
       "      <td>Manual</td>\n",
       "      <td>91856</td>\n",
       "      <td>1</td>\n",
       "      <td>Petrol</td>\n",
       "      <td>3</td>\n",
       "      <td>2</td>\n",
       "    </tr>\n",
       "  </tbody>\n",
       "</table>\n",
       "</div>"
      ],
      "text/plain": [
       "                            Model Name    Price  Manufacturing_year  \\\n",
       "0                2017 Maruti Swift VXI   561000                2017   \n",
       "1  2016 Maruti Baleno DELTA PETROL 1.2   498000                2016   \n",
       "2                2020 Maruti Swift VXI   577000                2020   \n",
       "3       2022 Maruti Ertiga VXI AT SHVS  1084000                2022   \n",
       "4                2019 Maruti Dzire VXI   603000                2019   \n",
       "\n",
       "   Engine capacity Spare key Transmission  KM driven  Ownership Fuel type  \\\n",
       "0             1197        No       Manual      25847          2    Petrol   \n",
       "1             1197       Yes       Manual      55511          2    Petrol   \n",
       "2             1197        No       Manual      47110          1    Petrol   \n",
       "3             1462       Yes    Automatic      35378          1    Petrol   \n",
       "4             1197       Yes       Manual      91856          1    Petrol   \n",
       "\n",
       "   Imperfections  Repainted Parts  \n",
       "0              6                2  \n",
       "1             12                1  \n",
       "2              4                2  \n",
       "3              2                3  \n",
       "4              3                2  "
      ]
     },
     "execution_count": 16,
     "metadata": {},
     "output_type": "execute_result"
    }
   ],
   "source": [
    "def read_data(datapath: Union[str, Path]):\n",
    "    datapath = Path(datapath)\n",
    "    assert datapath.is_file(), \"Your file does not exist\"\n",
    "    if datapath.suffix == \".xlsx\":\n",
    "        df = pd.read_excel(datapath)\n",
    "    elif datapath.suffix == \".csv\":\n",
    "        df1 = pd.read_csv(datapath, sep=\",\", nrows=2)\n",
    "        df2 = pd.read_csv(datapath, sep=\";\", nrows=2)\n",
    "        if len(df1.columns) > len(df2.columns):\n",
    "            df = pd.read_csv(datapath, sep=\",\")\n",
    "        if len(df2.columns) > len(df1.columns):\n",
    "            df = pd.read_csv(datapath, sep=\";\")\n",
    "        elif len(df1.columns) == len(df2.columns):\n",
    "            raise ValueError(\"Cannot read the .csv file (No matching separator)\")\n",
    "    else:\n",
    "        raise ValueError(\"Cannot read the file (Unknown format)\")\n",
    "\n",
    "    return df\n",
    "\n",
    "\n",
    "# Main Path\n",
    "DATA_PATH = Path(\"data/cars24data.csv\")\n",
    "\n",
    "df = read_data(DATA_PATH)\n",
    "df.head()"
   ]
  },
  {
   "cell_type": "code",
   "execution_count": null,
   "metadata": {},
   "outputs": [],
   "source": []
  }
 ],
 "metadata": {
  "kernelspec": {
   "display_name": "3.10.12",
   "language": "python",
   "name": "python3"
  },
  "language_info": {
   "codemirror_mode": {
    "name": "ipython",
    "version": 3
   },
   "file_extension": ".py",
   "mimetype": "text/x-python",
   "name": "python",
   "nbconvert_exporter": "python",
   "pygments_lexer": "ipython3",
   "version": "3.10.12"
  }
 },
 "nbformat": 4,
 "nbformat_minor": 2
}
